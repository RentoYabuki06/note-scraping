{
  "nbformat": 4,
  "nbformat_minor": 0,
  "metadata": {
    "colab": {
      "provenance": [],
      "mount_file_id": "1y6LSSV6RSRt5595RK4ywfVONcroswwU-",
      "authorship_tag": "ABX9TyNe0qJoQSCm2wlVMsK5Mf4x",
      "include_colab_link": true
    },
    "kernelspec": {
      "name": "python3",
      "display_name": "Python 3"
    },
    "language_info": {
      "name": "python"
    }
  },
  "cells": [
    {
      "cell_type": "markdown",
      "metadata": {
        "id": "view-in-github",
        "colab_type": "text"
      },
      "source": [
        "<a href=\"https://colab.research.google.com/github/RentoYabuki06/note-scraping/blob/main/%E3%80%90%E9%85%8D%E5%B8%83%E7%94%A8%E3%80%91NoteScraping.ipynb\" target=\"_parent\"><img src=\"https://colab.research.google.com/assets/colab-badge.svg\" alt=\"Open In Colab\"/></a>"
      ]
    },
    {
      "cell_type": "markdown",
      "source": [
        "# ステップ0. 同じ階層に「.env」ファイルを作成する\n",
        "作成するファイルの中には以下の情報を記載してください。\n",
        "\n",
        "おそらくChatGPTなどのAIに聞くとスムーズに取得方法がわかります。\n",
        "- SPREADSHEET_ID=\"あなたのGoogle Spread Sheet ID\"\n",
        "- SHEET_NAME=\"シート名（デフォルトは「シート1」）\"\n",
        "- COLUMN_TO_READ=2（何列目から読み取り始めるか）\n",
        "- START_ROW=2（何行から読み取り始めるか）\n",
        "- NOTION_API_KEY=\"あなたのNotion Internal Integration Secret Key\"\n",
        "- DATABASE_ID=\"接続したいNotion DBのID\""
      ],
      "metadata": {
        "id": "t40VKlQKl4Qf"
      }
    },
    {
      "cell_type": "markdown",
      "source": [
        "# ステップ1. 自身のGoogle Driveをマウント"
      ],
      "metadata": {
        "id": "Fbqx6JHHl7Yr"
      }
    },
    {
      "cell_type": "code",
      "source": [
        "from google.colab import drive\n",
        "drive.mount('/content/drive')"
      ],
      "metadata": {
        "id": "wwYTMM1HnSpB"
      },
      "execution_count": null,
      "outputs": []
    },
    {
      "cell_type": "markdown",
      "source": [
        "# ステップ2. 必要なパッケージのインストール\n",
        "- ✅ gspread：Sheets操作用\n",
        "- ✅ google-auth：認証用\n",
        "- ✅ notion-client：Notion操作用\n",
        "- ✅ BeautifulSoup4, requests：スクレイピング用\n",
        "- ✅ python-dotenv：ローカルの環境変数読み取り用\n"
      ],
      "metadata": {
        "id": "gP6aT7M8kf6k"
      }
    },
    {
      "cell_type": "code",
      "source": [
        "!pip install gspread google-auth notion-client beautifulsoup4 requests python-dotenv"
      ],
      "metadata": {
        "id": "bm4Y7bI8lpAz"
      },
      "execution_count": null,
      "outputs": []
    },
    {
      "cell_type": "markdown",
      "source": [
        "# ステップ3. ローカル環境変数の読み込み\n",
        "作業ディレクトリのみ修正して以下のプログラムを実行してください。"
      ],
      "metadata": {
        "id": "Ft7Cn5QYown4"
      }
    },
    {
      "cell_type": "code",
      "source": [
        "import os\n",
        "from dotenv import load_dotenv\n",
        "\n",
        "# 作業ディレクトリを移動 (このColaboファイルと.envファイルがある場所を指定してください)\n",
        "os.chdir('/content/drive/MyDrive/NoteScraping')\n",
        "\n",
        "# .env ファイルをロード\n",
        "load_dotenv()\n",
        "\n",
        "# 読み込んだ環境変数を個別の変数に格納 (デバッグ用に出力)\n",
        "SPREADSHEET_ID = os.getenv(\"SPREADSHEET_ID\")\n",
        "SHEET_NAME = os.getenv(\"SHEET_NAME\")\n",
        "COLUMN_TO_READ = os.getenv(\"COLUMN_TO_READ\", \"2\")\n",
        "START_ROW = os.getenv(\"START_ROW\", \"2\")\n",
        "NOTION_API_KEY = os.getenv(\"NOTION_API_KEY\")\n",
        "DATABASE_ID = os.getenv(\"DATABASE_ID\")\n",
        "GSHEET_SCOPES_STR = os.getenv(\"GSHEET_SCOPES\", \"https://www.googleapis.com/auth/spreadsheets,https://www.googleapis.com/auth/drive.readonly\")\n",
        "GSHEET_SCOPES = [scope.strip() for scope in GSHEET_SCOPES_STR.split(',')]\n",
        "\n",
        "print(\"DEBUG: Loaded environment variables:\")\n",
        "print(f\"  SPREADSHEET_ID: {SPREADSHEET_ID}\")\n",
        "print(f\"  SHEET_NAME: {SHEET_NAME}\")\n",
        "print(f\"  COLUMN_TO_READ: {COLUMN_TO_READ}\")\n",
        "print(f\"  START_ROW: {START_ROW}\")\n",
        "print(f\"  NOTION_API_KEY: {NOTION_API_KEY}\")\n",
        "print(f\"  DATABASE_ID: {DATABASE_ID}\")\n",
        "print(f\"  GSHEET_SCOPES: {GSHEET_SCOPES}\")"
      ],
      "metadata": {
        "id": "9qZnM_U5tRf5"
      },
      "execution_count": null,
      "outputs": []
    },
    {
      "cell_type": "markdown",
      "source": [
        "# ステップ4. スクレイピング & notion DBへの書き込み実行\n",
        "以下のプログラムをそのまま実行してください。\n",
        "\n",
        "Notion DB側のカラム名に誤りがある場合は適切に動作しません。（大文字小文字スペースなどにご注意ください）"
      ],
      "metadata": {
        "id": "IYxoIOymxn3z"
      }
    },
    {
      "cell_type": "code",
      "source": [
        "from google.colab import auth\n",
        "import gspread\n",
        "from google.auth import default\n",
        "from google.auth.transport.requests import Request\n",
        "from google.oauth2.credentials import Credentials\n",
        "from dotenv import load_dotenv\n",
        "import os\n",
        "import requests\n",
        "from bs4 import BeautifulSoup\n",
        "from notion_client import Client\n",
        "import re\n",
        "\n",
        "# === Google Sheets APIクライアントの初期化 ===\n",
        "def initialize_gsheets_client(scopes):\n",
        "    auth.authenticate_user()\n",
        "    creds, _ = default(scopes=scopes)\n",
        "    return gspread.authorize(creds)\n",
        "\n",
        "# === スプレッドシートからURLを読み取る ===\n",
        "def read_urls_from_sheet(gc, spreadsheet_id, sheet_name, column_to_read, start_row):\n",
        "    try:\n",
        "        spreadsheet = gc.open_by_key(spreadsheet_id)\n",
        "        worksheet = spreadsheet.worksheet(sheet_name)\n",
        "        return worksheet.col_values(column_to_read)[start_row - 1:]\n",
        "    except gspread.SpreadsheetNotFound:\n",
        "        print(f\"スプレッドシートが見つかりませんでした: {spreadsheet_id}\")\n",
        "        return None\n",
        "    except gspread.WorksheetNotFound:\n",
        "        print(f\"シート '{sheet_name}' が見つかりませんでした。\")\n",
        "        return None\n",
        "    except Exception as e:\n",
        "        print(f\"スプレッドシートからのURL読み取り中にエラーが発生しました: {e}\")\n",
        "        return None\n",
        "\n",
        "# === 記事データをスクレイピング ===\n",
        "def scrape_note_data(url):\n",
        "    response = requests.get(url)\n",
        "    soup = BeautifulSoup(response.text, 'html.parser')\n",
        "\n",
        "    date_tag = soup.find('time')\n",
        "    publish_date = date_tag['datetime'] if date_tag else None\n",
        "\n",
        "    title_tag = soup.find('title')\n",
        "    title = title_tag.text.strip() if title_tag else '無題'\n",
        "\n",
        "    like_button = soup.select_one('button.o-noteLikeV3__count')\n",
        "    like_count = int(like_button.text.strip()) if like_button and like_button.text.strip().isdigit() else 0\n",
        "\n",
        "    article_text = soup.get_text()\n",
        "    hashtags = list(set(re.findall(r'#(\\S+)', article_text)))\n",
        "\n",
        "    return {\n",
        "        'url': url,\n",
        "        'publish_date': publish_date,\n",
        "        'likes': like_count,\n",
        "        'title': title,\n",
        "        'hashtags': hashtags\n",
        "    }\n",
        "\n",
        "# === Notionに登録する ===\n",
        "def create_notion_page(notion, database_id, data):\n",
        "    properties = {\n",
        "        \"Title\": {\n",
        "            \"title\": [{\"text\": {\"content\": data['title']}}]\n",
        "        },\n",
        "        \"Like\": {\n",
        "            \"number\": data['likes']\n",
        "        },\n",
        "        \"View\": {\n",
        "            \"number\": 0  # View数は今回はスキップ\n",
        "        },\n",
        "        \"URL\": {\n",
        "            \"url\": data['url']\n",
        "        },\n",
        "        \"Charnum\": {\n",
        "            \"number\": 0  # 文字数カウント未実装\n",
        "        },\n",
        "        \"Category\": {\n",
        "            \"multi_select\": [{\"name\": tag} for tag in data['hashtags']] or [{\"name\": \"note\"}]\n",
        "        }\n",
        "    }\n",
        "\n",
        "    if data.get('publish_date'):\n",
        "        properties[\"Publish\"] = {\n",
        "            \"date\": {\"start\": data['publish_date']}\n",
        "        }\n",
        "\n",
        "    try:\n",
        "        notion.pages.create(\n",
        "            parent={\"database_id\": database_id},\n",
        "            properties=properties\n",
        "        )\n",
        "        return True\n",
        "    except Exception as e:\n",
        "        print(f\"🔥 Notionへの登録エラー (URL: {data['url']}): {e}\")\n",
        "        return False\n",
        "\n",
        "# === メイン実行 ===\n",
        "if __name__ == '__main__':\n",
        "    notion = Client(auth=NOTION_API_KEY)\n",
        "    gc = initialize_gsheets_client(GSHEET_SCOPES)\n",
        "\n",
        "    if gc:\n",
        "        urls_to_process = read_urls_from_sheet(gc, SPREADSHEET_ID, SHEET_NAME, int(COLUMN_TO_READ), int(START_ROW))\n",
        "\n",
        "        if urls_to_process:\n",
        "            for article_url in urls_to_process:\n",
        "                print(f\"🚀 スクレイピング開始: {article_url}\")\n",
        "                try:\n",
        "                    article_data = scrape_note_data(article_url)\n",
        "                    if create_notion_page(notion, DATABASE_ID, article_data):\n",
        "                        print(f\"✅ 登録完了: {article_data['title']}\")\n",
        "                except requests.exceptions.RequestException as e:\n",
        "                    print(f\"⚠️ スクレイピングエラー (URL: {article_url}): {e}\")\n",
        "                except Exception as e:\n",
        "                    print(f\"🔥 予期せぬエラー (URL: {article_url}): {e}\")\n",
        "        else:\n",
        "            print(\"処理するURLが見つかりませんでした。\")\n",
        "\n",
        "    print(\"✨ 全てのURLの処理が完了しました。\")"
      ],
      "metadata": {
        "id": "suDat5GSmPvQ"
      },
      "execution_count": null,
      "outputs": []
    },
    {
      "cell_type": "markdown",
      "source": [
        "# ステップ5. notion DBに反映されているか確認！\n",
        "Colaboでの処理はここまでです。\n",
        "\n",
        "Notion DBに適切に反映されているか確認してみましょう！\n",
        "\n",
        "もしエラーが出る場合は AIに聞いてみるなどして解決を図りましょう！"
      ],
      "metadata": {
        "id": "FgK3dJAGxzMC"
      }
    }
  ]
}